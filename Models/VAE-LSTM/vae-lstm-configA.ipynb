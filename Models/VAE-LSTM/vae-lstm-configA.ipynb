{
 "cells": [
  {
   "cell_type": "markdown",
   "metadata": {},
   "source": [
    "## VAE method for Motion prediction"
   ]
  },
  {
   "cell_type": "markdown",
   "metadata": {},
   "source": [
    "## Import libraries"
   ]
  },
  {
   "cell_type": "code",
   "execution_count": 1,
   "metadata": {},
   "outputs": [],
   "source": [
    "# torch imports\n",
    "import torch\n",
    "from torch import nn, optim\n",
    "from torch.utils.data import DataLoader, SubsetRandomSampler\n",
    "from torchvision.models.resnet import resnet50, resnet18, resnet34, resnet101\n",
    "import torch.functional as F\n",
    "\n",
    "# l5kit imports\n",
    "import l5kit\n",
    "from l5kit.configs import load_config_data\n",
    "from l5kit.data import LocalDataManager, ChunkedDataset\n",
    "from l5kit.dataset import AgentDataset, EgoDataset\n",
    "from l5kit.rasterization import build_rasterizer\n",
    "from l5kit.evaluation import write_pred_csv, compute_metrics_csv, read_gt_csv, create_chopped_dataset\n",
    "from l5kit.evaluation.chop_dataset import MIN_FUTURE_STEPS\n",
    "from l5kit.evaluation.metrics import neg_multi_log_likelihood, time_displace\n",
    "from l5kit.geometry import transform_points\n",
    "from l5kit.visualization import PREDICTED_POINTS_COLOR, TARGET_POINTS_COLOR, draw_trajectory\n",
    "\n",
    "# common imports\n",
    "import os\n",
    "import random\n",
    "import time\n",
    "import pandas as pd\n",
    "from typing import Dict\n",
    "from tempfile import gettempdir\n",
    "import matplotlib.pyplot as plt\n",
    "import numpy as np\n",
    "from tqdm import tqdm\n",
    "from prettytable import PrettyTable\n",
    "from pathlib import Path\n",
    "import warnings\n",
    "warnings.filterwarnings(\"ignore\")"
   ]
  },
  {
   "cell_type": "code",
   "execution_count": 2,
   "metadata": {},
   "outputs": [
    {
     "data": {
      "text/plain": [
       "'1.1.0'"
      ]
     },
     "execution_count": 2,
     "metadata": {},
     "output_type": "execute_result"
    }
   ],
   "source": [
    "l5kit.__version__"
   ]
  },
  {
   "cell_type": "code",
   "execution_count": 3,
   "metadata": {},
   "outputs": [
    {
     "data": {
      "text/plain": [
       "False"
      ]
     },
     "execution_count": 3,
     "metadata": {},
     "output_type": "execute_result"
    }
   ],
   "source": [
    "torch.cuda.is_available()"
   ]
  },
  {
   "cell_type": "markdown",
   "metadata": {},
   "source": [
    "## Helper functions"
   ]
  },
  {
   "cell_type": "code",
   "execution_count": 4,
   "metadata": {},
   "outputs": [],
   "source": [
    "DIR_INPUT = '/Users/angel/GitHub/l5kit'\n",
    "# set env variable for data\n",
    "os.environ[\"L5KIT_DATA_FOLDER\"] = DIR_INPUT\n",
    "dm = LocalDataManager(None)\n",
    "VALIDATION = True\n",
    "device = torch.device(\"cuda\" if torch.cuda.is_available() else \"cpu\")"
   ]
  },
  {
   "cell_type": "code",
   "execution_count": 17,
   "metadata": {},
   "outputs": [],
   "source": [
    "cfg = {\n",
    "    'format_version': 4,\n",
    "    'model_params': {\n",
    "        'model_architecture': 'resnet18',\n",
    "        \n",
    "        'history_num_frames': 10,\n",
    "        'history_step_size': 1,\n",
    "        'history_delta_time': 0.1,\n",
    "        \n",
    "        'future_num_frames': 50,\n",
    "        'future_step_size': 1,\n",
    "        'future_delta_time': 0.1\n",
    "    },\n",
    "    \n",
    "    'raster_params': {\n",
    "        'raster_size': [1, 1],\n",
    "        'pixel_size': [0.5, 0.5],\n",
    "        'ego_center': [0.25, 0.5],\n",
    "        'map_type': 'py_semantic',\n",
    "        'satellite_map_key': 'aerial_map/aerial_map.png',\n",
    "        'semantic_map_key': 'semantic_map/semantic_map.pb',\n",
    "        'dataset_meta_key': 'meta.json',\n",
    "        'filter_agents_threshold': 0.5\n",
    "    },\n",
    "    \n",
    "    'train_data_loader': {\n",
    "        'key': 'scenes/train.zarr',\n",
    "        'batch_size': 32,\n",
    "        'shuffle': True,\n",
    "        'num_workers': 8\n",
    "    },\n",
    "    \n",
    "    'val_data_loader': {\n",
    "        'key': 'scenes/validate.zarr',\n",
    "        'batch_size': 32,\n",
    "        'shuffle': False,\n",
    "        'num_workers': 8\n",
    "    },\n",
    "    \n",
    "    'test_data_loader': {\n",
    "        'key': 'scenes/test.zarr',\n",
    "        'batch_size': 32,\n",
    "        'shuffle': False,\n",
    "        'num_workers': 8\n",
    "    },\n",
    "    \n",
    "    'train_params': {\n",
    "        'checkpoint_every_n_steps': 1000,\n",
    "        'max_num_steps': 10000,\n",
    "        'eval_every_n_steps': 500\n",
    "    }\n",
    "}"
   ]
  },
  {
   "cell_type": "code",
   "execution_count": 18,
   "metadata": {},
   "outputs": [
    {
     "name": "stdout",
     "output_type": "stream",
     "text": [
      "+------------+------------+------------+---------------+-----------------+----------------------+----------------------+----------------------+---------------------+\n",
      "| Num Scenes | Num Frames | Num Agents | Num TR lights | Total Time (hr) | Avg Frames per Scene | Avg Agents per Frame | Avg Scene Time (sec) | Avg Frame frequency |\n",
      "+------------+------------+------------+---------------+-----------------+----------------------+----------------------+----------------------+---------------------+\n",
      "|   16265    |  4039527   | 320124624  |    38735988   |      112.19     |        248.36        |        79.25         |        24.83         |        10.00        |\n",
      "+------------+------------+------------+---------------+-----------------+----------------------+----------------------+----------------------+---------------------+\n"
     ]
    }
   ],
   "source": [
    "# ===== INIT DATASET\n",
    "train_cfg = cfg[\"train_data_loader\"]\n",
    "\n",
    "# Rasterizer\n",
    "rasterizer = build_rasterizer(cfg, dm)\n",
    "\n",
    "# Train dataset/dataloader\n",
    "train_zarr = ChunkedDataset(dm.require(train_cfg[\"key\"])).open()\n",
    "train_dataset = AgentDataset(cfg, train_zarr, rasterizer)\n",
    "train_dataloader = DataLoader(train_dataset,\n",
    "                              shuffle=train_cfg[\"shuffle\"],\n",
    "                              batch_size=train_cfg[\"batch_size\"],\n",
    "                              num_workers=train_cfg[\"num_workers\"])\n",
    "\n",
    "print(train_dataset)"
   ]
  },
  {
   "cell_type": "code",
   "execution_count": 19,
   "metadata": {},
   "outputs": [
    {
     "name": "stdout",
     "output_type": "stream",
     "text": [
      "+------------+------------+------------+---------------+-----------------+----------------------+----------------------+----------------------+---------------------+\n",
      "| Num Scenes | Num Frames | Num Agents | Num TR lights | Total Time (hr) | Avg Frames per Scene | Avg Agents per Frame | Avg Scene Time (sec) | Avg Frame frequency |\n",
      "+------------+------------+------------+---------------+-----------------+----------------------+----------------------+----------------------+---------------------+\n",
      "|   16220    |  4030296   | 312617887  |    29277930   |      111.97     |        248.48        |        77.57         |        24.85         |        10.00        |\n",
      "+------------+------------+------------+---------------+-----------------+----------------------+----------------------+----------------------+---------------------+\n"
     ]
    }
   ],
   "source": [
    "# ===== INIT  VAL DATASET\n",
    "val_cfg = cfg[\"val_data_loader\"]\n",
    "\n",
    "# Rasterizer\n",
    "rasterizer = build_rasterizer(cfg, dm)\n",
    "\n",
    "# Train dataset/dataloader\n",
    "val_zarr = ChunkedDataset(dm.require(val_cfg[\"key\"])).open()\n",
    "val_dataset = AgentDataset(cfg, val_zarr, rasterizer)\n",
    "val_dataloader = DataLoader(val_dataset,\n",
    "                              shuffle=val_cfg[\"shuffle\"],\n",
    "                              batch_size=val_cfg[\"batch_size\"],\n",
    "                              num_workers=train_cfg[\"num_workers\"])\n",
    "\n",
    "print(val_dataset)"
   ]
  },
  {
   "cell_type": "markdown",
   "metadata": {},
   "source": [
    "### LSTM Encoder Decoder"
   ]
  },
  {
   "cell_type": "code",
   "execution_count": 20,
   "metadata": {},
   "outputs": [],
   "source": [
    "class EncoderLSTM(nn.Module):\n",
    "    \n",
    "    def __init__(self, cfg, nz):\n",
    "        super(EncoderLSTM, self).__init__()\n",
    "        \n",
    "        self.input_sz  = 2\n",
    "        self.hidden_sz = nz\n",
    "        self.num_layer = 1 # maybe 50\n",
    "        \n",
    "        self.Encoder_lstm = nn.LSTM(self.input_sz,self.hidden_sz,self.num_layer,batch_first=True)\n",
    "       \n",
    "    def forward(self,inputs):\n",
    "        \n",
    "        output,hidden_state = self.Encoder_lstm(inputs)\n",
    "        \n",
    "        return output,hidden_state\n",
    "    \n",
    "class DecoderLSTM(nn.Module):\n",
    "    def __init__(self, cfg, nz):\n",
    "        super(DecoderLSTM, self).__init__()\n",
    "        \n",
    "        self.input_sz  = nz\n",
    "        self.hidden_sz = nz\n",
    "        self.hidden_sz_en = nz\n",
    "        self.num_layer = 1 # maybe 50\n",
    "        self.sequence_len_de = 1\n",
    "        \n",
    "        self.interlayer = nz * 4\n",
    "\n",
    "        num_targets = 2 * cfg[\"model_params\"][\"future_num_frames\"]\n",
    "        \n",
    "        self.Decoder_lstm = nn.LSTM( self.input_sz,self.hidden_sz,self.num_layer,batch_first=True)\n",
    "        \n",
    "        self.fcn_en_state_dec_state= nn.Sequential(nn.Linear(in_features=self.hidden_sz_en, out_features=self.interlayer),\n",
    "                            nn.ReLU(inplace=True),\n",
    "                            nn.Linear(in_features=self.interlayer, out_features=num_targets))\n",
    "\n",
    "    def forward(self,inputs, hidden_state, z):\n",
    "        inout_to_dec = torch.ones(inputs.shape[0],self.sequence_len_de,self.input_sz).to(device)\n",
    "\n",
    "        #for i in range(cfg[\"model_params\"][\"future_num_frames\"]+1): # this can be used to feed output from previous LSTM to anther one which is stacked.\n",
    "        decoder_output = self.Decoder_lstm(inout_to_dec,(hidden_state.contiguous(),z.contiguous()))\n",
    "                        \n",
    "        inout_to_dec = decoder_output[0]\n",
    "        \n",
    "        fc_out = self.fcn_en_state_dec_state (inout_to_dec.squeeze(dim=0))\n",
    "        \n",
    "        return fc_out.reshape(inputs.shape[0],cfg[\"model_params\"][\"future_num_frames\"],-1)"
   ]
  },
  {
   "cell_type": "code",
   "execution_count": 21,
   "metadata": {},
   "outputs": [],
   "source": [
    "def kl_divergence(mu1, log_sigma1, mu2, log_sigma2):\n",
    "  \"\"\"Computes KL[p||q] between two Gaussians defined by [mu, log_sigma].\"\"\"\n",
    "  return (log_sigma2 - log_sigma1) + (torch.exp(log_sigma1) ** 2 + (mu1 - mu2) ** 2) \\\n",
    "               / (2 * torch.exp(log_sigma2) ** 2) - 0.5\n",
    "\n",
    "\n",
    "class VAE(nn.Module):\n",
    "  def __init__(self, nz, cfg, beta=0.1):\n",
    "    super().__init__()\n",
    "    self.beta = beta          # factor trading off between two loss components\n",
    "    self.cfg = cfg\n",
    "\n",
    "    self.encoder = EncoderLSTM(cfg, nz * 2)\n",
    "    self.decoder = DecoderLSTM(cfg, nz)\n",
    "\n",
    "  def reparameterize(self, mu, logvar):   \n",
    "      if self.training:\n",
    "        std = torch.exp(logvar)\n",
    "        esp = torch.randn(*mu.size()).to(device)\n",
    "        z = mu + (std * esp)\n",
    "        return z\n",
    "      else:\n",
    "        return mu\n",
    "\n",
    "  def forward(self, inputs):\n",
    "    # encode input into posterior distribution q(z | x)\n",
    "    _,hidden_state = self.encoder(inputs)\n",
    "\n",
    "    hidden_state_zero_reshaped = hidden_state[0].squeeze(0)\n",
    "    hidden_state_one_reshaped = hidden_state[1].squeeze(0)\n",
    "\n",
    "    mu0 = hidden_state_zero_reshaped[:,:nz]\n",
    "    logvar0 = hidden_state_zero_reshaped[:,nz:]\n",
    "\n",
    "    mu = hidden_state_one_reshaped[:,:nz]\n",
    "    logvar = hidden_state_one_reshaped[:,nz:]\n",
    "\n",
    "    q = {}\n",
    "    q['mean'] = mu\n",
    "    q['log_sigma'] = logvar\n",
    "\n",
    "    # sample latent variable z with reparametrization\n",
    "    z0 = self.reparameterize(mu0, logvar0)\n",
    "\n",
    "    z = self.reparameterize(mu, logvar) # batch of sampled embeddings\n",
    "        \n",
    "    # compute reconstruction\n",
    "    reconstruction = self.decoder(inputs, z0.unsqueeze(0), z.unsqueeze(0))\n",
    "\n",
    "    return {'q': q, \n",
    "          'rec': reconstruction}\n",
    "\n",
    "  def loss(self, x, outputs, target_availabilities):\n",
    "    # compute reconstruction loss    \n",
    "    loss = nn.MSELoss(reduction='none')\n",
    "\n",
    "    rec_loss = loss(outputs['rec'], x)\n",
    "    rec_loss = rec_loss * target_availabilities\n",
    "\n",
    "    mu = outputs['q']['mean']\n",
    "    log_sigma = outputs['q']['log_sigma']\n",
    "\n",
    "    mu2 = torch.zeros_like(mu).to(device)\n",
    "    log_sigma2 = torch.zeros_like(log_sigma).to(device)\n",
    "    kl_loss = torch.mean(kl_divergence(mu, log_sigma, mu2, log_sigma2))\n",
    "\n",
    "    return rec_loss + self.beta * kl_loss, \\\n",
    "           {'rec_loss': rec_loss, 'kl_loss': kl_loss}\n",
    "\n",
    "    \n",
    "  def reconstruct(self, x):\n",
    "    \"\"\"Use mean of posterior estimate for visualization reconstruction.\"\"\"\n",
    "    reconstruction = self.forward(x)['rec']\n",
    "    return reconstruction"
   ]
  },
  {
   "cell_type": "code",
   "execution_count": 22,
   "metadata": {},
   "outputs": [],
   "source": [
    "# ==== INIT MODEL\n",
    "nz = 128\n",
    "learning_rate = 1e-3\n",
    "\n",
    "model = VAE(nz, cfg, beta=0.2).to(device)\n",
    "optimizer = torch.optim.AdamW(model.parameters(), lr=1e-3, weight_decay=0.0005)\n",
    "# optimizer = torch.optim.Adam(model.parameters(), lr=learning_rate)\n",
    "\n",
    "lr_scheduler = torch.optim.lr_scheduler.StepLR(optimizer,step_size=7000,gamma=0.1)\n",
    "criterion = nn.MSELoss(reduction=\"none\")"
   ]
  },
  {
   "cell_type": "code",
   "execution_count": 23,
   "metadata": {},
   "outputs": [
    {
     "name": "stderr",
     "output_type": "stream",
     "text": [
      " TrainLoss: 2.7087: 100%|██████████| 10000/10000 [47:58<00:00,  3.47it/s]  \n"
     ]
    }
   ],
   "source": [
    "import pdb\n",
    "# ==== TRAIN LOOP\n",
    "tr_it = iter(train_dataloader)\n",
    "vl_it = iter(val_dataloader)\n",
    "\n",
    "progress_bar = tqdm(range(cfg[\"train_params\"][\"max_num_steps\"]))\n",
    "losses_train = []\n",
    "losses_mean_train = []\n",
    "rec_loss, kl_loss = [], []\n",
    "losses_val = []\n",
    "losses_mean_val = []\n",
    "\n",
    "for itr in progress_bar:\n",
    "    try:\n",
    "        data = next(tr_it)\n",
    "    except StopIteration:\n",
    "        tr_it = iter(train_dataloader)\n",
    "        data = next(tr_it)\n",
    "    model.train()\n",
    "    torch.set_grad_enabled(True)\n",
    "\n",
    "    history_positions = data['history_positions'].to(device)\n",
    "    history_availabilities = data['history_availabilities'].to(device)\n",
    "    target_availabilities = data[\"target_availabilities\"].unsqueeze(-1).to(device)\n",
    "    targets_position = data[\"target_positions\"].to(device)\n",
    "\n",
    "    outputs = model(history_positions)\n",
    "    loss, losses = model.loss(targets_position, outputs, target_availabilities)\n",
    "    rec_loss.append(losses['rec_loss'].mean())\n",
    "    kl_loss.append(losses['kl_loss'].mean())\n",
    "    total_loss = losses['rec_loss'] + losses['kl_loss']\n",
    "    loss = total_loss.mean()\n",
    "    \n",
    "    # Backward pass\n",
    "    optimizer.zero_grad()\n",
    "    loss.backward()\n",
    "    optimizer.step()\n",
    "    \n",
    "    losses_train.append(total_loss.mean().item())\n",
    "    losses_mean_train.append(np.mean(losses_train))\n",
    "    \n",
    "    with open('VaeConfigA_train.csv','a') as fd:\n",
    "        fd.write(f\"{itr},{loss}\\n\")\n",
    "        \n",
    "    with open('VaeConfigA__train_avg.csv','a') as fd:\n",
    "        fd.write(f\"{itr},{np.mean(losses_train)}\\n\")\n",
    "    \n",
    "    # Validation\n",
    "    if VALIDATION :\n",
    "        with torch.no_grad():\n",
    "            try:\n",
    "                val_data = next(vl_it)\n",
    "            except StopIteration:\n",
    "                vl_it = iter(val_dataloader)\n",
    "                val_data = next(vl_it)\n",
    "\n",
    "            model.eval()\n",
    "            # Forward pass\n",
    "            target_availabilities_val = val_data[\"target_availabilities\"].unsqueeze(-1).to(device)\n",
    "            targets_positions_val = val_data[\"target_positions\"].to(device)\n",
    "            history_positions_val = val_data['history_positions'].to(device)\n",
    "            history_availabilities_val = val_data['history_availabilities'].to(device)\n",
    "\n",
    "            outputs_val = model(history_positions_val)\n",
    "                    \n",
    "            loss_v, losses_v = model.loss(targets_positions_val, outputs_val, target_availabilities_val)\n",
    "            loss_v = loss_v.mean()\n",
    "            total_loss_val = losses_v['rec_loss'] + losses_v['kl_loss']\n",
    "            losses_val.append(total_loss_val.mean().item())\n",
    "            losses_mean_val.append(np.mean(losses_val))\n",
    "\n",
    "\n",
    "        desc = f\" TrainLoss: {round(loss.item(), 4)} ValLoss: {round(total_loss_val.mean().item(), 4)} TrainMeanLoss: {np.mean(losses_train)} ValMeanLoss: {np.mean(losses_val)}\" \n",
    "    else:\n",
    "        desc = f\" TrainLoss: {round(loss.item(), 4)}\"\n",
    "        \n",
    "    if (itr+1) % 250 == 0:\n",
    "            torch.save(model.state_dict(), f'VAEConfigA.pth')\n",
    "\n",
    "    lr_scheduler.step()\n",
    "\n",
    "    progress_bar.set_description(desc)"
   ]
  },
  {
   "cell_type": "code",
   "execution_count": 24,
   "metadata": {},
   "outputs": [
    {
     "data": {
      "image/png": "[encoded data removed]",
      "text/plain": [
       "<Figure size 1080x864 with 1 Axes>"
      ]
     },
     "metadata": {
      "needs_background": "light"
     },
     "output_type": "display_data"
    }
   ],
   "source": [
    "def plot_losses(train, val):\n",
    "    plt.subplot(2, 1, 1)\n",
    "    plt.plot(train, '-o')\n",
    "    plt.plot(val, '-o')\n",
    "    plt.xlabel('iterations')\n",
    "    plt.ylabel('loss')\n",
    "    plt.legend(['Training', 'Validation'])\n",
    "    plt.title('Loss vs. No. of iterations');\n",
    "    plt.gcf().set_size_inches(15, 12)\n",
    "\n",
    "plot_losses(losses_mean_train, losses_mean_val)"
   ]
  },
  {
   "cell_type": "code",
   "execution_count": 25,
   "metadata": {
    "scrolled": true
   },
   "outputs": [
    {
     "data": {
      "image/png": "[encoded data removed]",
      "text/plain": [
       "<Figure size 720x360 with 2 Axes>"
      ]
     },
     "metadata": {
      "needs_background": "light"
     },
     "output_type": "display_data"
    }
   ],
   "source": [
    "def plot_losses(rec_loss, kl_loss):\n",
    "    fig = plt.figure(figsize = (10, 5))\n",
    "    ax1 = plt.subplot(121)\n",
    "    ax1.plot(rec_loss)\n",
    "    ax1.title.set_text(\"Reconstruction Loss\")\n",
    "    ax2 = plt.subplot(122)\n",
    "    ax2.plot(kl_loss)\n",
    "    ax2.title.set_text(\"KL Loss\")\n",
    "    plt.show()\n",
    "\n",
    "plot_losses(rec_loss, kl_loss)"
   ]
  },
  {
   "cell_type": "code",
   "execution_count": 26,
   "metadata": {},
   "outputs": [
    {
     "name": "stdout",
     "output_type": "stream",
     "text": [
      "<torch.utils.data.dataloader.DataLoader object at 0x7fef762534c0>\n"
     ]
    }
   ],
   "source": [
    "# ===== INIT DATASET\n",
    "test_cfg = cfg[\"test_data_loader\"]\n",
    "\n",
    "# Rasterizer\n",
    "rasterizer = build_rasterizer(cfg, dm)\n",
    "\n",
    "# Test dataset/dataloader\n",
    "test_zarr = ChunkedDataset(dm.require(test_cfg[\"key\"])).open()\n",
    "test_dataset = AgentDataset(cfg, test_zarr, rasterizer)\n",
    "test_dataloader = DataLoader(test_dataset,\n",
    "                             shuffle=test_cfg[\"shuffle\"],\n",
    "                             batch_size=test_cfg[\"batch_size\"],\n",
    "                             num_workers=test_cfg[\"num_workers\"])\n",
    "\n",
    "\n",
    "model.load_state_dict(torch.load('VAEConfigA.pth'))\n",
    "print(test_dataloader)"
   ]
  },
  {
   "cell_type": "code",
   "execution_count": 27,
   "metadata": {},
   "outputs": [
    {
     "name": "stdout",
     "output_type": "stream",
     "text": [
      "185990\n"
     ]
    }
   ],
   "source": [
    "print(len(test_dataloader))"
   ]
  },
  {
   "cell_type": "code",
   "execution_count": 31,
   "metadata": {},
   "outputs": [
    {
     "name": "stderr",
     "output_type": "stream",
     "text": [
      "  1%|          | 999/185990 [04:16<13:11:41,  3.89it/s]\n"
     ]
    }
   ],
   "source": [
    "losses_test = []\n",
    "losses_mean_test = []\n",
    "itr = 0\n",
    "\n",
    "model.eval()\n",
    "with torch.no_grad():\n",
    "    dataiter = tqdm(test_dataloader)\n",
    "    \n",
    "    for data in dataiter:\n",
    "        history_positions = data['history_positions'].to(device)\n",
    "        history_availabilities = data['history_availabilities'].to(device)\n",
    "        target_availabilities = data[\"target_availabilities\"].unsqueeze(-1).to(device)\n",
    "        targets_position = data[\"target_positions\"].to(device)\n",
    "        \n",
    "        outputs = model(history_positions)\n",
    "        _, losses = model.loss(targets_position, outputs, target_availabilities)\n",
    "        total_loss = losses['rec_loss'] + losses['kl_loss']\n",
    "        loss = total_loss.mean()\n",
    "        \n",
    "        losses_test.append(loss.item())\n",
    "        losses_mean_test.append(np.mean(losses_test))\n",
    "        \n",
    "        with open('VaeConfigA_test.csv','a') as fd:\n",
    "            fd.write(f\"{itr},{loss}\\n\")\n",
    "        \n",
    "        with open('VaeConfigA__test_avg.csv','a') as fd:\n",
    "            fd.write(f\"{itr},{np.mean(losses_test)}\\n\")\n",
    "\n",
    "        itr += 1\n",
    "        if itr == 1000:\n",
    "            break"
   ]
  },
  {
   "cell_type": "code",
   "execution_count": 32,
   "metadata": {},
   "outputs": [
    {
     "name": "stdout",
     "output_type": "stream",
     "text": [
      "Mean Test Loss: 2.1585916013121604\n"
     ]
    }
   ],
   "source": [
    "print(f\"Mean Test Loss: {np.mean(losses_test)}\")"
   ]
  },
  {
   "cell_type": "code",
   "execution_count": 33,
   "metadata": {
    "scrolled": true
   },
   "outputs": [
    {
     "data": {
      "image/png": "[encoded data removed]",
      "text/plain": [
       "<Figure size 1080x864 with 1 Axes>"
      ]
     },
     "metadata": {
      "needs_background": "light"
     },
     "output_type": "display_data"
    }
   ],
   "source": [
    "def plot_losses(train):\n",
    "    plt.subplot(2, 1, 1)\n",
    "    plt.plot(train, '-o')\n",
    "#     plt.plot(val, '-o')\n",
    "    plt.xlabel('iterations')\n",
    "    plt.ylabel('loss')\n",
    "    plt.legend(['Training', 'Validation'])\n",
    "    plt.title('Loss vs. No. of iterations');\n",
    "    plt.gcf().set_size_inches(15, 12)\n",
    "\n",
    "plot_losses(losses_mean_test)"
   ]
  },
  {
   "cell_type": "code",
   "execution_count": null,
   "metadata": {},
   "outputs": [],
   "source": []
  }
 ],
 "metadata": {
  "kernelspec": {
   "display_name": "Python 3",
   "language": "python",
   "name": "python3"
  },
  "language_info": {
   "codemirror_mode": {
    "name": "ipython",
    "version": 3
   },
   "file_extension": ".py",
   "mimetype": "text/x-python",
   "name": "python",
   "nbconvert_exporter": "python",
   "pygments_lexer": "ipython3",
   "version": "3.8.3"
  }
 },
 "nbformat": 4,
 "nbformat_minor": 4
}
